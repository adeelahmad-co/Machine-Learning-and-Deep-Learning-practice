{
 "cells": [
  {
   "cell_type": "code",
   "execution_count": 1,
   "metadata": {},
   "outputs": [],
   "source": [
    "import numpy as np"
   ]
  },
  {
   "cell_type": "code",
   "execution_count": 5,
   "metadata": {},
   "outputs": [
    {
     "data": {
      "text/plain": [
       "array([[[0.21442845],\n",
       "        [0.72345094],\n",
       "        [0.07150432],\n",
       "        [0.27925994],\n",
       "        [0.45025179],\n",
       "        [0.79353924],\n",
       "        [0.04760289],\n",
       "        [0.46944939],\n",
       "        [0.69671577],\n",
       "        [0.7338144 ]],\n",
       "\n",
       "       [[0.03847241],\n",
       "        [0.13387552],\n",
       "        [0.5010224 ],\n",
       "        [0.35283216],\n",
       "        [0.1826775 ],\n",
       "        [0.62328807],\n",
       "        [0.44591167],\n",
       "        [0.21973333],\n",
       "        [0.90069988],\n",
       "        [0.88114073]],\n",
       "\n",
       "       [[0.62360594],\n",
       "        [0.62431545],\n",
       "        [0.4276529 ],\n",
       "        [0.18496602],\n",
       "        [0.56086234],\n",
       "        [0.18692817],\n",
       "        [0.30524147],\n",
       "        [0.46141111],\n",
       "        [0.44302607],\n",
       "        [0.87992799]],\n",
       "\n",
       "       [[0.8301427 ],\n",
       "        [0.89510614],\n",
       "        [0.96820546],\n",
       "        [0.77688241],\n",
       "        [0.96131929],\n",
       "        [0.67415604],\n",
       "        [0.05403857],\n",
       "        [0.76372494],\n",
       "        [0.32755482],\n",
       "        [0.05238853]]])"
      ]
     },
     "execution_count": 5,
     "metadata": {},
     "output_type": "execute_result"
    }
   ],
   "source": [
    "np.random.rand(4, 10, 1)"
   ]
  },
  {
   "cell_type": "code",
   "execution_count": 4,
   "metadata": {},
   "outputs": [
    {
     "data": {
      "text/plain": [
       "array([[0.31876662],\n",
       "       [0.74365628],\n",
       "       [0.07076267],\n",
       "       [0.22791579],\n",
       "       [0.32331514],\n",
       "       [0.89878588],\n",
       "       [0.11621924],\n",
       "       [0.99157911],\n",
       "       [0.57418676],\n",
       "       [0.63530219]])"
      ]
     },
     "execution_count": 4,
     "metadata": {},
     "output_type": "execute_result"
    }
   ],
   "source": [
    "x1"
   ]
  },
  {
   "cell_type": "code",
   "execution_count": 6,
   "metadata": {},
   "outputs": [],
   "source": [
    "time = np.linspace(0, 1, 10)"
   ]
  },
  {
   "cell_type": "code",
   "execution_count": 7,
   "metadata": {},
   "outputs": [
    {
     "data": {
      "text/plain": [
       "array([0.        , 0.11111111, 0.22222222, 0.33333333, 0.44444444,\n",
       "       0.55555556, 0.66666667, 0.77777778, 0.88888889, 1.        ])"
      ]
     },
     "execution_count": 7,
     "metadata": {},
     "output_type": "execute_result"
    }
   ],
   "source": [
    "time"
   ]
  },
  {
   "cell_type": "code",
   "execution_count": null,
   "metadata": {},
   "outputs": [],
   "source": []
  }
 ],
 "metadata": {
  "kernelspec": {
   "display_name": "Python 3",
   "language": "python",
   "name": "python3"
  },
  "language_info": {
   "codemirror_mode": {
    "name": "ipython",
    "version": 3
   },
   "file_extension": ".py",
   "mimetype": "text/x-python",
   "name": "python",
   "nbconvert_exporter": "python",
   "pygments_lexer": "ipython3",
   "version": "3.7.4"
  }
 },
 "nbformat": 4,
 "nbformat_minor": 2
}
